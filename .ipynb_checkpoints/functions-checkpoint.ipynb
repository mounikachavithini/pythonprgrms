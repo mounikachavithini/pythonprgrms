{
 "cells": [
  {
   "cell_type": "code",
   "execution_count": null,
   "metadata": {},
   "outputs": [],
   "source": [
    "a=int(input(\"enter any number\"))\n",
    "def iseven(a):\n",
    "    for i in range(1,r+1):\n",
    "        if a%2==0:\n",
    "            print(\"even\")\n",
    "        else:\n",
    "            print(\"odd\")\n",
    "n=int(input(\"enter the range\"))            \n",
    "iseven(a)"
   ]
  },
  {
   "cell_type": "code",
   "execution_count": null,
   "metadata": {},
   "outputs": [],
   "source": [
    "def averagenum(a):\n",
    "    sum=a*(a+1)/2\n",
    "    print(sum//a)\n",
    "range=int(input())\n",
    "averagenum(range)\n"
   ]
  },
  {
   "cell_type": "code",
   "execution_count": null,
   "metadata": {},
   "outputs": [],
   "source": [
    "def square2number(a,b):###square number \n",
    "    square=((a*a)+(b*b)+2*a*b)\n",
    "    print(\"square of a\",\"\",\"b\",\"is\",square)\n",
    "n=int(input())\n",
    "m=int(input())\n",
    "square2number(n,m)\n",
    "    "
   ]
  },
  {
   "cell_type": "code",
   "execution_count": null,
   "metadata": {},
   "outputs": [],
   "source": [
    "n=int(input(\"enter any number\"))###prime or not\n",
    "def isprime(n):\n",
    "    status=0\n",
    "    for i in range(2,(n//2)+1):#####+1(incr iteration)\n",
    "        if (n%i==0):\n",
    "            status=1\n",
    "    if (status==0):\n",
    "        print(\"prime number\")\n",
    "    else:\n",
    "        print(\"not a prime\")\n",
    "    r=int(input())\n",
    "isprime(n)\n",
    "    \n"
   ]
  },
  {
   "cell_type": "code",
   "execution_count": 2,
   "metadata": {},
   "outputs": [
    {
     "name": "stdout",
     "output_type": "stream",
     "text": [
      "4\n",
      "factorial of a number 24\n"
     ]
    }
   ],
   "source": [
    "def fact(n):##factorial of a number\n",
    "    fact=1\n",
    "    for i in range(1,n+1):\n",
    "        fact=fact*i\n",
    "    print(\"factorial of a number\",fact)\n",
    "r=int(input())\n",
    "fact(r)\n",
    "      "
   ]
  },
  {
   "cell_type": "code",
   "execution_count": null,
   "metadata": {},
   "outputs": [],
   "source": []
  }
 ],
 "metadata": {
  "kernelspec": {
   "display_name": "Python 3",
   "language": "python",
   "name": "python3"
  },
  "language_info": {
   "codemirror_mode": {
    "name": "ipython",
    "version": 3
   },
   "file_extension": ".py",
   "mimetype": "text/x-python",
   "name": "python",
   "nbconvert_exporter": "python",
   "pygments_lexer": "ipython3",
   "version": "3.7.3"
  }
 },
 "nbformat": 4,
 "nbformat_minor": 2
}
